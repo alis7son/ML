{
 "cells": [
  {
   "cell_type": "code",
   "execution_count": 1,
   "id": "vital-sword",
   "metadata": {},
   "outputs": [],
   "source": [
    "import pandas as pd\n",
    "import numpy as np\n",
    "import seaborn as sea\n",
    "import matplotlib.pyplot as plt"
   ]
  },
  {
   "cell_type": "code",
   "execution_count": 2,
   "id": "embedded-infrared",
   "metadata": {},
   "outputs": [
    {
     "data": {
      "text/plain": [
       "17"
      ]
     },
     "execution_count": 2,
     "metadata": {},
     "output_type": "execute_result"
    }
   ],
   "source": [
    "import gc\n",
    "gc.collect()"
   ]
  },
  {
   "cell_type": "code",
   "execution_count": 3,
   "id": "obvious-symphony",
   "metadata": {},
   "outputs": [],
   "source": [
    "df = pd.read_csv('pizza.csv')"
   ]
  },
  {
   "cell_type": "code",
   "execution_count": 4,
   "id": "accepting-benjamin",
   "metadata": {},
   "outputs": [
    {
     "data": {
      "text/html": [
       "<div>\n",
       "<style scoped>\n",
       "    .dataframe tbody tr th:only-of-type {\n",
       "        vertical-align: middle;\n",
       "    }\n",
       "\n",
       "    .dataframe tbody tr th {\n",
       "        vertical-align: top;\n",
       "    }\n",
       "\n",
       "    .dataframe thead th {\n",
       "        text-align: right;\n",
       "    }\n",
       "</style>\n",
       "<table border=\"1\" class=\"dataframe\">\n",
       "  <thead>\n",
       "    <tr style=\"text-align: right;\">\n",
       "      <th></th>\n",
       "      <th>Classe</th>\n",
       "      <th>Ingredientes</th>\n",
       "      <th>Tamanho</th>\n",
       "      <th>Preco</th>\n",
       "    </tr>\n",
       "  </thead>\n",
       "  <tbody>\n",
       "    <tr>\n",
       "      <th>0</th>\n",
       "      <td>1</td>\n",
       "      <td>1</td>\n",
       "      <td>20</td>\n",
       "      <td>30.0</td>\n",
       "    </tr>\n",
       "    <tr>\n",
       "      <th>1</th>\n",
       "      <td>2</td>\n",
       "      <td>2</td>\n",
       "      <td>30</td>\n",
       "      <td>35.0</td>\n",
       "    </tr>\n",
       "    <tr>\n",
       "      <th>2</th>\n",
       "      <td>3</td>\n",
       "      <td>1</td>\n",
       "      <td>40</td>\n",
       "      <td>30.0</td>\n",
       "    </tr>\n",
       "    <tr>\n",
       "      <th>3</th>\n",
       "      <td>1</td>\n",
       "      <td>2</td>\n",
       "      <td>50</td>\n",
       "      <td>99.0</td>\n",
       "    </tr>\n",
       "    <tr>\n",
       "      <th>4</th>\n",
       "      <td>2</td>\n",
       "      <td>1</td>\n",
       "      <td>20</td>\n",
       "      <td>27.9</td>\n",
       "    </tr>\n",
       "  </tbody>\n",
       "</table>\n",
       "</div>"
      ],
      "text/plain": [
       "   Classe  Ingredientes  Tamanho  Preco\n",
       "0       1             1       20   30.0\n",
       "1       2             2       30   35.0\n",
       "2       3             1       40   30.0\n",
       "3       1             2       50   99.0\n",
       "4       2             1       20   27.9"
      ]
     },
     "execution_count": 4,
     "metadata": {},
     "output_type": "execute_result"
    }
   ],
   "source": [
    "df.head()"
   ]
  },
  {
   "cell_type": "markdown",
   "id": "convertible-specialist",
   "metadata": {},
   "source": [
    "#### Dataset Pizza"
   ]
  },
  {
   "cell_type": "markdown",
   "id": "b6c4ea1b-0c2c-4ea3-b9ed-b710b981073a",
   "metadata": {},
   "source": [
    "Acesse o sistema com o modelo de Ml na web:\n",
    "Link: https://web-ml-app.herokuapp.com/"
   ]
  },
  {
   "cell_type": "markdown",
   "id": "vital-today",
   "metadata": {},
   "source": [
    "Dataset simples apenas com 50 instâncias.<br>\n",
    "<li>Classe: 1 para a localização da pizzaria em bairros de classe A e B. 2 Classe C e 3 para D,E</li>\n",
    "<li>Ingredientes: Qualidade dos ingredientes. 1 de primeira qualidade levando produtos orgânicos, 2 tradicionais</li>\n",
    "<li>Tamanho: 5 tipos de diâmetros: 20,30,40,50</li>\n",
    "<li>Preço: Valores definidos na pesquisa</li>"
   ]
  },
  {
   "cell_type": "markdown",
   "id": "distributed-german",
   "metadata": {},
   "source": [
    "#### Dividindo o dataset e treinando o modelo LinearRegression, problema Supervisionado de Regressão."
   ]
  },
  {
   "cell_type": "code",
   "execution_count": 5,
   "id": "infinite-wichita",
   "metadata": {},
   "outputs": [],
   "source": [
    "from sklearn.model_selection import train_test_split\n",
    "from sklearn.linear_model import LinearRegression\n",
    "from sklearn.metrics import mean_squared_error, r2_score"
   ]
  },
  {
   "cell_type": "code",
   "execution_count": 6,
   "id": "dominican-location",
   "metadata": {},
   "outputs": [],
   "source": [
    "preditoras = df[['Classe','Ingredientes','Tamanho']]\n",
    "target = df['Preco']\n",
    "Xtrain, Xtest, ytrain, ytest = train_test_split(preditoras,target,test_size = 0.2, random_state=20)"
   ]
  },
  {
   "cell_type": "code",
   "execution_count": 7,
   "id": "raising-fusion",
   "metadata": {},
   "outputs": [
    {
     "data": {
      "text/plain": [
       "((40, 3), (10, 3), (40,), (10,))"
      ]
     },
     "execution_count": 7,
     "metadata": {},
     "output_type": "execute_result"
    }
   ],
   "source": [
    "Xtrain.shape, Xtest.shape, ytrain.shape, ytest.shape"
   ]
  },
  {
   "cell_type": "code",
   "execution_count": 8,
   "id": "beneficial-generator",
   "metadata": {},
   "outputs": [],
   "source": [
    "lr = LinearRegression()"
   ]
  },
  {
   "cell_type": "code",
   "execution_count": 9,
   "id": "danish-pencil",
   "metadata": {},
   "outputs": [],
   "source": [
    "model = lr.fit(Xtrain,ytrain)"
   ]
  },
  {
   "cell_type": "code",
   "execution_count": 10,
   "id": "little-burst",
   "metadata": {},
   "outputs": [],
   "source": [
    "pred = model.predict(Xtest)"
   ]
  },
  {
   "cell_type": "markdown",
   "id": "adjusted-quarter",
   "metadata": {},
   "source": [
    "#### Ajustando o modelo"
   ]
  },
  {
   "cell_type": "code",
   "execution_count": 11,
   "id": "sexual-october",
   "metadata": {},
   "outputs": [
    {
     "data": {
      "text/plain": [
       "{'MSE': 127.27266491304484, 'R2_SCORE': 0.39948841790878564}"
      ]
     },
     "execution_count": 11,
     "metadata": {},
     "output_type": "execute_result"
    }
   ],
   "source": [
    "model_metrics = {}\n",
    "model_metrics['MSE'] = mean_squared_error(y_true = ytest, y_pred = pred)\n",
    "model_metrics['R2_SCORE'] = r2_score(y_true = ytest, y_pred = pred)\n",
    "\n",
    "model_metrics"
   ]
  },
  {
   "cell_type": "markdown",
   "id": "offshore-curtis",
   "metadata": {},
   "source": [
    "#### Salvando os resultados das métricas"
   ]
  },
  {
   "cell_type": "markdown",
   "id": "armed-rally",
   "metadata": {},
   "source": [
    "A ideia é salvar (Como Json) as métricas referentes aos testes. Assim é possível versionar cada modelo treinado para futuras avaliações."
   ]
  },
  {
   "cell_type": "code",
   "execution_count": 12,
   "id": "genuine-chocolate",
   "metadata": {},
   "outputs": [],
   "source": [
    "import json\n",
    "\n",
    "with open('model_metrics_version_clf.json', 'w') as fp:\n",
    "    json.dump(model_metrics, fp)"
   ]
  },
  {
   "cell_type": "markdown",
   "id": "undefined-lingerie",
   "metadata": {},
   "source": [
    "#### Salvando o modelo"
   ]
  },
  {
   "cell_type": "markdown",
   "id": "vertical-preserve",
   "metadata": {},
   "source": [
    "Todo processo está sendo salvo dentro de uma __estrutura do projeto/pastas__. A ideia é __versionar cada modelo(ver1, ver2).__"
   ]
  },
  {
   "cell_type": "code",
   "execution_count": 13,
   "id": "disturbed-reviewer",
   "metadata": {
    "tags": []
   },
   "outputs": [],
   "source": [
    "from joblib import dump, load"
   ]
  },
  {
   "cell_type": "code",
   "execution_count": 14,
   "id": "municipal-measurement",
   "metadata": {},
   "outputs": [
    {
     "data": {
      "text/plain": [
       "['lr.joblib']"
      ]
     },
     "execution_count": 14,
     "metadata": {},
     "output_type": "execute_result"
    }
   ],
   "source": [
    "dump(lr, 'lr.joblib') "
   ]
  },
  {
   "cell_type": "code",
   "execution_count": null,
   "id": "backed-terrace",
   "metadata": {},
   "outputs": [],
   "source": []
  }
 ],
 "metadata": {
  "kernelspec": {
   "display_name": "Python 3",
   "language": "python",
   "name": "python3"
  },
  "language_info": {
   "codemirror_mode": {
    "name": "ipython",
    "version": 3
   },
   "file_extension": ".py",
   "mimetype": "text/x-python",
   "name": "python",
   "nbconvert_exporter": "python",
   "pygments_lexer": "ipython3",
   "version": "3.8.8"
  }
 },
 "nbformat": 4,
 "nbformat_minor": 5
}
